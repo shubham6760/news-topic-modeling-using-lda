{
  "cells": [
    {
      "cell_type": "markdown",
      "metadata": {
        "id": "view-in-github",
        "colab_type": "text"
      },
      "source": [
        "<a href=\"https://colab.research.google.com/github/shubham6760/news-topic-modeling-using-lda/blob/main/news_topic_modeling_using_lda.ipynb\" target=\"_parent\"><img src=\"https://colab.research.google.com/assets/colab-badge.svg\" alt=\"Open In Colab\"/></a>"
      ]
    },
    {
      "cell_type": "code",
      "execution_count": null,
      "id": "933ee464",
      "metadata": {
        "_cell_guid": "b1076dfc-b9ad-4769-8c92-a6c4dae69d19",
        "_uuid": "8f2839f25d086af736a60e9eeb907d3b93b6e0e5",
        "execution": {
          "iopub.execute_input": "2022-11-13T13:43:52.926426Z",
          "iopub.status.busy": "2022-11-13T13:43:52.925618Z",
          "iopub.status.idle": "2022-11-13T13:43:52.931360Z",
          "shell.execute_reply": "2022-11-13T13:43:52.930372Z"
        },
        "papermill": {
          "duration": 0.019238,
          "end_time": "2022-11-13T13:43:52.933483",
          "exception": false,
          "start_time": "2022-11-13T13:43:52.914245",
          "status": "completed"
        },
        "tags": [],
        "id": "933ee464"
      },
      "outputs": [],
      "source": [
        "# # This Python 3 environment comes with many helpful analytics libraries installed\n",
        "# # It is defined by the kaggle/python Docker image: https://github.com/kaggle/docker-python\n",
        "# # For example, here's several helpful packages to load\n",
        "\n",
        "# import numpy as np # linear algebra\n",
        "# import pandas as pd # data processing, CSV file I/O (e.g. pd.read_csv)\n",
        "\n",
        "# # Input data files are available in the read-only \"../input/\" directory\n",
        "# # For example, running this (by clicking run or pressing Shift+Enter) will list all files under the input directory\n",
        "\n",
        "# import os\n",
        "# for dirname, _, filenames in os.walk('/kaggle/input'):\n",
        "#     for filename in filenames:\n",
        "#         print(os.path.join(dirname, filename))\n",
        "\n",
        "# # You can write up to 20GB to the current directory (/kaggle/working/) that gets preserved as output when you create a version using \"Save & Run All\" \n",
        "# # You can also write temporary files to /kaggle/temp/, but they won't be saved outside of the current session"
      ]
    },
    {
      "cell_type": "code",
      "execution_count": null,
      "id": "c349599f",
      "metadata": {
        "execution": {
          "iopub.execute_input": "2022-11-13T13:43:52.952600Z",
          "iopub.status.busy": "2022-11-13T13:43:52.951906Z",
          "iopub.status.idle": "2022-11-13T13:43:54.500024Z",
          "shell.execute_reply": "2022-11-13T13:43:54.498761Z"
        },
        "papermill": {
          "duration": 1.560965,
          "end_time": "2022-11-13T13:43:54.502956",
          "exception": false,
          "start_time": "2022-11-13T13:43:52.941991",
          "status": "completed"
        },
        "tags": [],
        "id": "c349599f"
      },
      "outputs": [],
      "source": [
        "# Data manipulation libraries\n",
        "import numpy as np\n",
        "import pandas as pd\n",
        "\n",
        "# Plotting libraries\n",
        "import seaborn as sns\n",
        "import matplotlib.pyplot as plt\n",
        "\n",
        "# sklearn for feature extraction & modeling\n",
        "from sklearn.feature_extraction.text import CountVectorizer, TfidfVectorizer, TfidfTransformer\n",
        "from sklearn.decomposition import LatentDirichletAllocation\n",
        "from sklearn.model_selection import train_test_split\n",
        "\n",
        "# Iteratively read files\n",
        "import glob\n",
        "import os\n",
        "\n",
        "%matplotlib inline"
      ]
    },
    {
      "cell_type": "code",
      "execution_count": null,
      "id": "b5301617",
      "metadata": {
        "execution": {
          "iopub.execute_input": "2022-11-13T13:43:54.522253Z",
          "iopub.status.busy": "2022-11-13T13:43:54.521818Z",
          "iopub.status.idle": "2022-11-13T13:43:54.528461Z",
          "shell.execute_reply": "2022-11-13T13:43:54.527275Z"
        },
        "papermill": {
          "duration": 0.01881,
          "end_time": "2022-11-13T13:43:54.530966",
          "exception": false,
          "start_time": "2022-11-13T13:43:54.512156",
          "status": "completed"
        },
        "tags": [],
        "id": "b5301617",
        "outputId": "e05ce8de-65d2-401d-e03a-92915a6999bd"
      },
      "outputs": [
        {
          "name": "stdout",
          "output_type": "stream",
          "text": [
            "Current working directory is: /kaggle/working\n",
            "Changing directory to /kaggle\n"
          ]
        }
      ],
      "source": [
        "print(f\"Current working directory is: {os.getcwd()}\")\n",
        "dir = os.chdir(\"/kaggle\")\n",
        "print(f'Changing directory to {os.getcwd()}')"
      ]
    },
    {
      "cell_type": "code",
      "execution_count": null,
      "id": "995d9125",
      "metadata": {
        "execution": {
          "iopub.execute_input": "2022-11-13T13:43:54.550007Z",
          "iopub.status.busy": "2022-11-13T13:43:54.549555Z",
          "iopub.status.idle": "2022-11-13T13:43:54.559856Z",
          "shell.execute_reply": "2022-11-13T13:43:54.558634Z"
        },
        "papermill": {
          "duration": 0.022589,
          "end_time": "2022-11-13T13:43:54.562269",
          "exception": false,
          "start_time": "2022-11-13T13:43:54.539680",
          "status": "completed"
        },
        "tags": [],
        "id": "995d9125"
      },
      "outputs": [],
      "source": [
        "#User defined function to read and store bbc Data from multiple folders\n",
        "def load_data(folder_names, root_path):\n",
        "    fileNames = [path + \"/input/bbc-news-summary/BBC News Summary/News Articles/\" + folder + '/' + \"*.txt\"\n",
        "        for path,folder in zip([root_path]*len(folder_names), folder_names)]\n",
        "    #print(fileNames)\n",
        "    #print(\"\\n\")\n",
        "    doc_list = []\n",
        "    tags = folder_names\n",
        "    for docs in fileNames:\n",
        "        #print(docs)\n",
        "        doc = glob.glob(docs)#glob method iterates through all files and reads the text in documents in the folders\n",
        "        for text in doc:\n",
        "            with open(text, encoding=\"latin-1\") as f:\n",
        "                topic = docs.split('/')[len(docs.split('/'))-2]\n",
        "                lines = f.readlines()\n",
        "                heading = lines[0].strip()#stripping the text by spaces and using first element into heading\n",
        "                body = ' '.join([l.strip() for l in lines[1:]])\n",
        "                doc_list.append([topic,heading,body])\n",
        "        print(f\"Loading data from \\033[1m{topic}\\033[0m directory\")\n",
        "    print(\"\\nEntire Data is loaded successfully\")\n",
        "    \n",
        "    return doc_list"
      ]
    },
    {
      "cell_type": "code",
      "execution_count": null,
      "id": "93c0214f",
      "metadata": {
        "execution": {
          "iopub.execute_input": "2022-11-13T13:43:54.581635Z",
          "iopub.status.busy": "2022-11-13T13:43:54.581196Z",
          "iopub.status.idle": "2022-11-13T13:44:00.596910Z",
          "shell.execute_reply": "2022-11-13T13:44:00.595459Z"
        },
        "papermill": {
          "duration": 6.029279,
          "end_time": "2022-11-13T13:44:00.600204",
          "exception": false,
          "start_time": "2022-11-13T13:43:54.570925",
          "status": "completed"
        },
        "tags": [],
        "id": "93c0214f",
        "outputId": "bd8e7b1e-7ba5-4beb-ec9e-b5925b514c62"
      },
      "outputs": [
        {
          "name": "stdout",
          "output_type": "stream",
          "text": [
            "Loading data from \u001b[1mbusiness\u001b[0m directory\n",
            "Loading data from \u001b[1mentertainment\u001b[0m directory\n",
            "Loading data from \u001b[1mpolitics\u001b[0m directory\n",
            "Loading data from \u001b[1msport\u001b[0m directory\n",
            "Loading data from \u001b[1mtech\u001b[0m directory\n",
            "\n",
            "Entire Data is loaded successfully\n"
          ]
        }
      ],
      "source": [
        "#Loading dataset\n",
        "folder_names = ['business','entertainment','politics','sport','tech']\n",
        "docs = load_data(folder_names = folder_names, root_path = os.getcwd())"
      ]
    },
    {
      "cell_type": "code",
      "execution_count": null,
      "id": "fcc52531",
      "metadata": {
        "execution": {
          "iopub.execute_input": "2022-11-13T13:44:00.622582Z",
          "iopub.status.busy": "2022-11-13T13:44:00.622141Z",
          "iopub.status.idle": "2022-11-13T13:44:00.650647Z",
          "shell.execute_reply": "2022-11-13T13:44:00.649318Z"
        },
        "papermill": {
          "duration": 0.041741,
          "end_time": "2022-11-13T13:44:00.653432",
          "exception": false,
          "start_time": "2022-11-13T13:44:00.611691",
          "status": "completed"
        },
        "tags": [],
        "id": "fcc52531",
        "outputId": "90b2a8d5-86f0-4b0a-cd1a-a366d27b490a"
      },
      "outputs": [
        {
          "data": {
            "text/html": [
              "<div>\n",
              "<style scoped>\n",
              "    .dataframe tbody tr th:only-of-type {\n",
              "        vertical-align: middle;\n",
              "    }\n",
              "\n",
              "    .dataframe tbody tr th {\n",
              "        vertical-align: top;\n",
              "    }\n",
              "\n",
              "    .dataframe thead th {\n",
              "        text-align: right;\n",
              "    }\n",
              "</style>\n",
              "<table border=\"1\" class=\"dataframe\">\n",
              "  <thead>\n",
              "    <tr style=\"text-align: right;\">\n",
              "      <th></th>\n",
              "      <th>Category</th>\n",
              "      <th>Heading</th>\n",
              "      <th>Article</th>\n",
              "    </tr>\n",
              "  </thead>\n",
              "  <tbody>\n",
              "    <tr>\n",
              "      <th>0</th>\n",
              "      <td>business</td>\n",
              "      <td>US consumer confidence up</td>\n",
              "      <td>Consumers' confidence in the state of the US ...</td>\n",
              "    </tr>\n",
              "    <tr>\n",
              "      <th>1</th>\n",
              "      <td>business</td>\n",
              "      <td>The 'ticking budget' facing the US</td>\n",
              "      <td>The budget proposals laid out by the administ...</td>\n",
              "    </tr>\n",
              "    <tr>\n",
              "      <th>2</th>\n",
              "      <td>business</td>\n",
              "      <td>Mitsubishi in Peugeot link talks</td>\n",
              "      <td>Trouble-hit Mitsubishi Motors is in talks wit...</td>\n",
              "    </tr>\n",
              "    <tr>\n",
              "      <th>3</th>\n",
              "      <td>business</td>\n",
              "      <td>BMW reveals new models pipeline</td>\n",
              "      <td>BMW is preparing to enter the market for car-...</td>\n",
              "    </tr>\n",
              "    <tr>\n",
              "      <th>4</th>\n",
              "      <td>business</td>\n",
              "      <td>World leaders gather to face uncertainty</td>\n",
              "      <td>More than 2,000 business and political leader...</td>\n",
              "    </tr>\n",
              "  </tbody>\n",
              "</table>\n",
              "</div>"
            ],
            "text/plain": [
              "   Category                                   Heading  \\\n",
              "0  business                 US consumer confidence up   \n",
              "1  business        The 'ticking budget' facing the US   \n",
              "2  business          Mitsubishi in Peugeot link talks   \n",
              "3  business           BMW reveals new models pipeline   \n",
              "4  business  World leaders gather to face uncertainty   \n",
              "\n",
              "                                             Article  \n",
              "0   Consumers' confidence in the state of the US ...  \n",
              "1   The budget proposals laid out by the administ...  \n",
              "2   Trouble-hit Mitsubishi Motors is in talks wit...  \n",
              "3   BMW is preparing to enter the market for car-...  \n",
              "4   More than 2,000 business and political leader...  "
            ]
          },
          "execution_count": 6,
          "metadata": {},
          "output_type": "execute_result"
        }
      ],
      "source": [
        "docs = pd.DataFrame(docs, columns=['Category', 'Heading', 'Article'])\n",
        "docs.head()"
      ]
    },
    {
      "cell_type": "code",
      "execution_count": null,
      "id": "346696f1",
      "metadata": {
        "execution": {
          "iopub.execute_input": "2022-11-13T13:44:00.673739Z",
          "iopub.status.busy": "2022-11-13T13:44:00.673303Z",
          "iopub.status.idle": "2022-11-13T13:44:00.691430Z",
          "shell.execute_reply": "2022-11-13T13:44:00.690276Z"
        },
        "papermill": {
          "duration": 0.031453,
          "end_time": "2022-11-13T13:44:00.694096",
          "exception": false,
          "start_time": "2022-11-13T13:44:00.662643",
          "status": "completed"
        },
        "tags": [],
        "id": "346696f1"
      },
      "outputs": [],
      "source": [
        "#splitting data into train and test sets\n",
        "train_docs, test_docs = train_test_split(docs,stratify=docs.Category, test_size=50,random_state=42)"
      ]
    },
    {
      "cell_type": "code",
      "execution_count": null,
      "id": "6bf814f9",
      "metadata": {
        "execution": {
          "iopub.execute_input": "2022-11-13T13:44:00.714308Z",
          "iopub.status.busy": "2022-11-13T13:44:00.713864Z",
          "iopub.status.idle": "2022-11-13T13:44:00.721916Z",
          "shell.execute_reply": "2022-11-13T13:44:00.720399Z"
        },
        "papermill": {
          "duration": 0.021102,
          "end_time": "2022-11-13T13:44:00.724573",
          "exception": false,
          "start_time": "2022-11-13T13:44:00.703471",
          "status": "completed"
        },
        "tags": [],
        "id": "6bf814f9",
        "outputId": "8088d577-406c-4d4d-fc00-3f90fc68ffae"
      },
      "outputs": [
        {
          "data": {
            "text/plain": [
              "((2175, 3), (50, 3))"
            ]
          },
          "execution_count": 8,
          "metadata": {},
          "output_type": "execute_result"
        }
      ],
      "source": [
        "train_docs.shape, test_docs.shape"
      ]
    },
    {
      "cell_type": "code",
      "execution_count": null,
      "id": "2af74697",
      "metadata": {
        "execution": {
          "iopub.execute_input": "2022-11-13T13:44:00.745883Z",
          "iopub.status.busy": "2022-11-13T13:44:00.745059Z",
          "iopub.status.idle": "2022-11-13T13:44:01.410900Z",
          "shell.execute_reply": "2022-11-13T13:44:01.409565Z"
        },
        "papermill": {
          "duration": 0.680183,
          "end_time": "2022-11-13T13:44:01.414199",
          "exception": false,
          "start_time": "2022-11-13T13:44:00.734016",
          "status": "completed"
        },
        "tags": [],
        "id": "2af74697",
        "outputId": "df93aefe-0418-49fb-ed35-4c7b87166425"
      },
      "outputs": [
        {
          "name": "stderr",
          "output_type": "stream",
          "text": [
            "/opt/conda/lib/python3.7/site-packages/sklearn/utils/deprecation.py:87: FutureWarning: Function get_feature_names is deprecated; get_feature_names is deprecated in 1.0 and will be removed in 1.2. Please use get_feature_names_out instead.\n",
            "  warnings.warn(msg, category=FutureWarning)\n"
          ]
        },
        {
          "data": {
            "text/plain": [
              "<2175x2908 sparse matrix of type '<class 'numpy.float64'>'\n",
              "\twith 205635 stored elements in Compressed Sparse Row format>"
            ]
          },
          "execution_count": 9,
          "metadata": {},
          "output_type": "execute_result"
        }
      ],
      "source": [
        "vectorizer = TfidfVectorizer(max_df=.2, \n",
        "                             min_df=.01, \n",
        "                             stop_words='english')\n",
        "\n",
        "train_dtm = vectorizer.fit_transform(train_docs[\"Article\"])\n",
        "words = vectorizer.get_feature_names()\n",
        "train_dtm"
      ]
    },
    {
      "cell_type": "code",
      "execution_count": null,
      "id": "85ddc068",
      "metadata": {
        "execution": {
          "iopub.execute_input": "2022-11-13T13:44:01.434646Z",
          "iopub.status.busy": "2022-11-13T13:44:01.434229Z",
          "iopub.status.idle": "2022-11-13T13:44:01.441769Z",
          "shell.execute_reply": "2022-11-13T13:44:01.440258Z"
        },
        "papermill": {
          "duration": 0.020472,
          "end_time": "2022-11-13T13:44:01.443852",
          "exception": false,
          "start_time": "2022-11-13T13:44:01.423380",
          "status": "completed"
        },
        "tags": [],
        "id": "85ddc068",
        "outputId": "62ad0bdf-54e8-41d9-82a4-178452cb48ad"
      },
      "outputs": [
        {
          "data": {
            "text/plain": [
              "2908"
            ]
          },
          "execution_count": 10,
          "metadata": {},
          "output_type": "execute_result"
        }
      ],
      "source": [
        "len(words)"
      ]
    },
    {
      "cell_type": "code",
      "execution_count": null,
      "id": "103fb846",
      "metadata": {
        "execution": {
          "iopub.execute_input": "2022-11-13T13:44:01.464485Z",
          "iopub.status.busy": "2022-11-13T13:44:01.464019Z",
          "iopub.status.idle": "2022-11-13T13:44:01.470536Z",
          "shell.execute_reply": "2022-11-13T13:44:01.469056Z"
        },
        "papermill": {
          "duration": 0.019596,
          "end_time": "2022-11-13T13:44:01.472952",
          "exception": false,
          "start_time": "2022-11-13T13:44:01.453356",
          "status": "completed"
        },
        "tags": [],
        "id": "103fb846"
      },
      "outputs": [],
      "source": [
        "#assigning number of topics\n",
        "n_components = 5\n",
        "topic_labels = ['Topic {}'.format(i) for i in range(1, n_components+1)]"
      ]
    },
    {
      "cell_type": "code",
      "execution_count": null,
      "id": "d9ee1351",
      "metadata": {
        "execution": {
          "iopub.execute_input": "2022-11-13T13:44:01.494094Z",
          "iopub.status.busy": "2022-11-13T13:44:01.493684Z",
          "iopub.status.idle": "2022-11-13T13:44:01.501125Z",
          "shell.execute_reply": "2022-11-13T13:44:01.499804Z"
        },
        "papermill": {
          "duration": 0.020504,
          "end_time": "2022-11-13T13:44:01.503413",
          "exception": false,
          "start_time": "2022-11-13T13:44:01.482909",
          "status": "completed"
        },
        "tags": [],
        "id": "d9ee1351",
        "outputId": "b3b74dd6-fda5-4093-b06d-c30b029661c2"
      },
      "outputs": [
        {
          "data": {
            "text/plain": [
              "['Topic 1', 'Topic 2', 'Topic 3', 'Topic 4', 'Topic 5']"
            ]
          },
          "execution_count": 12,
          "metadata": {},
          "output_type": "execute_result"
        }
      ],
      "source": [
        "topic_labels"
      ]
    },
    {
      "cell_type": "code",
      "execution_count": null,
      "id": "c8b85809",
      "metadata": {
        "execution": {
          "iopub.execute_input": "2022-11-13T13:44:01.524228Z",
          "iopub.status.busy": "2022-11-13T13:44:01.523782Z",
          "iopub.status.idle": "2022-11-13T13:44:06.487567Z",
          "shell.execute_reply": "2022-11-13T13:44:06.486017Z"
        },
        "papermill": {
          "duration": 4.977022,
          "end_time": "2022-11-13T13:44:06.489932",
          "exception": false,
          "start_time": "2022-11-13T13:44:01.512910",
          "status": "completed"
        },
        "tags": [],
        "id": "c8b85809",
        "outputId": "8936e17a-9ea6-408b-a0fb-371e720176e2"
      },
      "outputs": [
        {
          "data": {
            "text/plain": [
              "LatentDirichletAllocation(n_components=5, n_jobs=-1)"
            ]
          },
          "execution_count": 13,
          "metadata": {},
          "output_type": "execute_result"
        }
      ],
      "source": [
        "lda_base = LatentDirichletAllocation(n_components=n_components,\n",
        "                                     n_jobs=-1,\n",
        "                                     learning_method='batch',\n",
        "                                     max_iter=10)\n",
        "lda_base.fit(train_dtm)"
      ]
    },
    {
      "cell_type": "code",
      "execution_count": null,
      "id": "083de9d4",
      "metadata": {
        "execution": {
          "iopub.execute_input": "2022-11-13T13:44:06.512373Z",
          "iopub.status.busy": "2022-11-13T13:44:06.511903Z",
          "iopub.status.idle": "2022-11-13T13:44:06.521498Z",
          "shell.execute_reply": "2022-11-13T13:44:06.520116Z"
        },
        "papermill": {
          "duration": 0.025795,
          "end_time": "2022-11-13T13:44:06.525574",
          "exception": false,
          "start_time": "2022-11-13T13:44:06.499779",
          "status": "completed"
        },
        "tags": [],
        "id": "083de9d4",
        "outputId": "355c8826-5dd5-43ed-b366-65dce5b1c015"
      },
      "outputs": [
        {
          "name": "stdout",
          "output_type": "stream",
          "text": [
            "(5, 2908)\n"
          ]
        },
        {
          "data": {
            "text/plain": [
              "array([[ 0.20000688, 12.37531848,  6.31238104, ...,  1.3572584 ,\n",
              "         0.20981272,  0.20084896],\n",
              "       [ 0.20003303,  0.5453197 ,  0.21517794, ...,  0.20802951,\n",
              "         0.20005332,  0.20237845],\n",
              "       [ 4.06021183,  9.7315913 ,  4.50965084, ...,  2.2995493 ,\n",
              "        11.60214534,  5.32828875],\n",
              "       [ 0.23086997,  0.20023379,  0.20012519, ...,  0.20021216,\n",
              "         0.20013103,  0.20006703],\n",
              "       [ 0.20007697,  0.20012637,  0.2001289 , ...,  0.20012964,\n",
              "         0.20013498,  0.20006903]])"
            ]
          },
          "execution_count": 14,
          "metadata": {},
          "output_type": "execute_result"
        }
      ],
      "source": [
        "# pseudo counts\n",
        "topics_count = lda_base.components_\n",
        "print(topics_count.shape)\n",
        "topics_count[:5]"
      ]
    },
    {
      "cell_type": "code",
      "execution_count": null,
      "id": "6c4245c7",
      "metadata": {
        "execution": {
          "iopub.execute_input": "2022-11-13T13:44:06.547895Z",
          "iopub.status.busy": "2022-11-13T13:44:06.547498Z",
          "iopub.status.idle": "2022-11-13T13:44:06.565918Z",
          "shell.execute_reply": "2022-11-13T13:44:06.564405Z"
        },
        "papermill": {
          "duration": 0.032608,
          "end_time": "2022-11-13T13:44:06.568505",
          "exception": false,
          "start_time": "2022-11-13T13:44:06.535897",
          "status": "completed"
        },
        "tags": [],
        "id": "6c4245c7",
        "outputId": "f4b40043-db60-4f69-d5be-6c53d9284652"
      },
      "outputs": [
        {
          "data": {
            "text/html": [
              "<div>\n",
              "<style scoped>\n",
              "    .dataframe tbody tr th:only-of-type {\n",
              "        vertical-align: middle;\n",
              "    }\n",
              "\n",
              "    .dataframe tbody tr th {\n",
              "        vertical-align: top;\n",
              "    }\n",
              "\n",
              "    .dataframe thead th {\n",
              "        text-align: right;\n",
              "    }\n",
              "</style>\n",
              "<table border=\"1\" class=\"dataframe\">\n",
              "  <thead>\n",
              "    <tr style=\"text-align: right;\">\n",
              "      <th></th>\n",
              "      <th>Topic 1</th>\n",
              "      <th>Topic 2</th>\n",
              "      <th>Topic 3</th>\n",
              "      <th>Topic 4</th>\n",
              "      <th>Topic 5</th>\n",
              "    </tr>\n",
              "  </thead>\n",
              "  <tbody>\n",
              "    <tr>\n",
              "      <th>000m</th>\n",
              "      <td>0.000027</td>\n",
              "      <td>0.000133</td>\n",
              "      <td>0.000411</td>\n",
              "      <td>0.000387</td>\n",
              "      <td>0.000344</td>\n",
              "    </tr>\n",
              "    <tr>\n",
              "      <th>10</th>\n",
              "      <td>0.001674</td>\n",
              "      <td>0.000362</td>\n",
              "      <td>0.000985</td>\n",
              "      <td>0.000336</td>\n",
              "      <td>0.000344</td>\n",
              "    </tr>\n",
              "    <tr>\n",
              "      <th>100</th>\n",
              "      <td>0.000854</td>\n",
              "      <td>0.000143</td>\n",
              "      <td>0.000456</td>\n",
              "      <td>0.000336</td>\n",
              "      <td>0.000344</td>\n",
              "    </tr>\n",
              "    <tr>\n",
              "      <th>100m</th>\n",
              "      <td>0.000170</td>\n",
              "      <td>0.000414</td>\n",
              "      <td>0.000296</td>\n",
              "      <td>0.000346</td>\n",
              "      <td>0.000344</td>\n",
              "    </tr>\n",
              "    <tr>\n",
              "      <th>11</th>\n",
              "      <td>0.000759</td>\n",
              "      <td>0.001222</td>\n",
              "      <td>0.000508</td>\n",
              "      <td>0.000336</td>\n",
              "      <td>0.000344</td>\n",
              "    </tr>\n",
              "  </tbody>\n",
              "</table>\n",
              "</div>"
            ],
            "text/plain": [
              "       Topic 1   Topic 2   Topic 3   Topic 4   Topic 5\n",
              "000m  0.000027  0.000133  0.000411  0.000387  0.000344\n",
              "10    0.001674  0.000362  0.000985  0.000336  0.000344\n",
              "100   0.000854  0.000143  0.000456  0.000336  0.000344\n",
              "100m  0.000170  0.000414  0.000296  0.000346  0.000344\n",
              "11    0.000759  0.001222  0.000508  0.000336  0.000344"
            ]
          },
          "execution_count": 15,
          "metadata": {},
          "output_type": "execute_result"
        }
      ],
      "source": [
        "topics_prob = topics_count / topics_count.sum(axis=1).reshape(-1, 1)\n",
        "topics = pd.DataFrame(topics_prob.T,\n",
        "                      index=words,\n",
        "                      columns=topic_labels)\n",
        "topics.head()"
      ]
    },
    {
      "cell_type": "code",
      "execution_count": null,
      "id": "94518a9e",
      "metadata": {
        "execution": {
          "iopub.execute_input": "2022-11-13T13:44:06.590920Z",
          "iopub.status.busy": "2022-11-13T13:44:06.590503Z",
          "iopub.status.idle": "2022-11-13T13:44:06.597390Z",
          "shell.execute_reply": "2022-11-13T13:44:06.596277Z"
        },
        "papermill": {
          "duration": 0.021048,
          "end_time": "2022-11-13T13:44:06.599668",
          "exception": false,
          "start_time": "2022-11-13T13:44:06.578620",
          "status": "completed"
        },
        "tags": [],
        "id": "94518a9e",
        "outputId": "9f2c6e49-854d-4899-bb58-8370666b763b"
      },
      "outputs": [
        {
          "data": {
            "text/plain": [
              "(2908, 5)"
            ]
          },
          "execution_count": 16,
          "metadata": {},
          "output_type": "execute_result"
        }
      ],
      "source": [
        "topics.shape"
      ]
    },
    {
      "cell_type": "code",
      "execution_count": null,
      "id": "f1f08fac",
      "metadata": {
        "execution": {
          "iopub.execute_input": "2022-11-13T13:44:06.622103Z",
          "iopub.status.busy": "2022-11-13T13:44:06.621658Z",
          "iopub.status.idle": "2022-11-13T13:44:06.629930Z",
          "shell.execute_reply": "2022-11-13T13:44:06.628798Z"
        },
        "papermill": {
          "duration": 0.022561,
          "end_time": "2022-11-13T13:44:06.632264",
          "exception": false,
          "start_time": "2022-11-13T13:44:06.609703",
          "status": "completed"
        },
        "tags": [],
        "id": "f1f08fac"
      },
      "outputs": [],
      "source": [
        "#setting display options\n",
        "%matplotlib inline\n",
        "plt.style.use('ggplot')\n",
        "plt.rcParams['figure.figsize'] = (14.0, 8.7)\n",
        "pd.options.display.float_format = '{:,.2f}'.format"
      ]
    },
    {
      "cell_type": "code",
      "execution_count": null,
      "id": "3d255b63",
      "metadata": {
        "execution": {
          "iopub.execute_input": "2022-11-13T13:44:06.654195Z",
          "iopub.status.busy": "2022-11-13T13:44:06.653775Z",
          "iopub.status.idle": "2022-11-13T13:44:07.445218Z",
          "shell.execute_reply": "2022-11-13T13:44:07.443827Z"
        },
        "papermill": {
          "duration": 0.805448,
          "end_time": "2022-11-13T13:44:07.447772",
          "exception": false,
          "start_time": "2022-11-13T13:44:06.642324",
          "status": "completed"
        },
        "tags": [],
        "id": "3d255b63",
        "outputId": "3c4d5f12-d6a3-4b25-92bc-e64af03a5918"
      },
      "outputs": [
        {
          "data": {
            "text/plain": [
              "<AxesSubplot:>"
            ]
          },
          "execution_count": 18,
          "metadata": {},
          "output_type": "execute_result"
        },
        {
          "data": {
            "image/png": "[encoded data removed]",
            "text/plain": [
              "<Figure size 1008x626.4 with 2 Axes>"
            ]
          },
          "metadata": {},
          "output_type": "display_data"
        }
      ],
      "source": [
        "sns.heatmap(topics, cmap='Blues')"
      ]
    },
    {
      "cell_type": "code",
      "execution_count": null,
      "id": "458b347f",
      "metadata": {
        "execution": {
          "iopub.execute_input": "2022-11-13T13:44:07.471694Z",
          "iopub.status.busy": "2022-11-13T13:44:07.471309Z",
          "iopub.status.idle": "2022-11-13T13:44:07.491904Z",
          "shell.execute_reply": "2022-11-13T13:44:07.490734Z"
        },
        "papermill": {
          "duration": 0.035786,
          "end_time": "2022-11-13T13:44:07.494625",
          "exception": false,
          "start_time": "2022-11-13T13:44:07.458839",
          "status": "completed"
        },
        "tags": [],
        "id": "458b347f",
        "outputId": "95ad7909-5f51-4589-af9a-1442ffeb9ee0"
      },
      "outputs": [
        {
          "data": {
            "text/html": [
              "<div>\n",
              "<style scoped>\n",
              "    .dataframe tbody tr th:only-of-type {\n",
              "        vertical-align: middle;\n",
              "    }\n",
              "\n",
              "    .dataframe tbody tr th {\n",
              "        vertical-align: top;\n",
              "    }\n",
              "\n",
              "    .dataframe thead th {\n",
              "        text-align: right;\n",
              "    }\n",
              "</style>\n",
              "<table border=\"1\" class=\"dataframe\">\n",
              "  <thead>\n",
              "    <tr style=\"text-align: right;\">\n",
              "      <th></th>\n",
              "      <th>Topic 1</th>\n",
              "      <th>Topic 2</th>\n",
              "      <th>Topic 3</th>\n",
              "      <th>Topic 4</th>\n",
              "      <th>Topic 5</th>\n",
              "    </tr>\n",
              "  </thead>\n",
              "  <tbody>\n",
              "    <tr>\n",
              "      <th>0</th>\n",
              "      <td>music</td>\n",
              "      <td>film</td>\n",
              "      <td>labour</td>\n",
              "      <td>indoor</td>\n",
              "      <td>finances</td>\n",
              "    </tr>\n",
              "    <tr>\n",
              "      <th>1</th>\n",
              "      <td>market</td>\n",
              "      <td>best</td>\n",
              "      <td>game</td>\n",
              "      <td>60m</td>\n",
              "      <td>formal</td>\n",
              "    </tr>\n",
              "    <tr>\n",
              "      <th>2</th>\n",
              "      <td>sales</td>\n",
              "      <td>awards</td>\n",
              "      <td>election</td>\n",
              "      <td>jump</td>\n",
              "      <td>audio</td>\n",
              "    </tr>\n",
              "    <tr>\n",
              "      <th>3</th>\n",
              "      <td>company</td>\n",
              "      <td>award</td>\n",
              "      <td>party</td>\n",
              "      <td>fastest</td>\n",
              "      <td>shops</td>\n",
              "    </tr>\n",
              "    <tr>\n",
              "      <th>4</th>\n",
              "      <td>mobile</td>\n",
              "      <td>actor</td>\n",
              "      <td>blair</td>\n",
              "      <td>medal</td>\n",
              "      <td>introduction</td>\n",
              "    </tr>\n",
              "    <tr>\n",
              "      <th>5</th>\n",
              "      <td>growth</td>\n",
              "      <td>festival</td>\n",
              "      <td>england</td>\n",
              "      <td>silver</td>\n",
              "      <td>investor</td>\n",
              "    </tr>\n",
              "    <tr>\n",
              "      <th>6</th>\n",
              "      <td>2004</td>\n",
              "      <td>films</td>\n",
              "      <td>win</td>\n",
              "      <td>birmingham</td>\n",
              "      <td>popularity</td>\n",
              "    </tr>\n",
              "    <tr>\n",
              "      <th>7</th>\n",
              "      <td>firm</td>\n",
              "      <td>star</td>\n",
              "      <td>brown</td>\n",
              "      <td>000m</td>\n",
              "      <td>motorcycle</td>\n",
              "    </tr>\n",
              "    <tr>\n",
              "      <th>8</th>\n",
              "      <td>technology</td>\n",
              "      <td>actress</td>\n",
              "      <td>club</td>\n",
              "      <td>olympic</td>\n",
              "      <td>falls</td>\n",
              "    </tr>\n",
              "    <tr>\n",
              "      <th>9</th>\n",
              "      <td>million</td>\n",
              "      <td>oscar</td>\n",
              "      <td>minister</td>\n",
              "      <td>championships</td>\n",
              "      <td>chicago</td>\n",
              "    </tr>\n",
              "    <tr>\n",
              "      <th>10</th>\n",
              "      <td>software</td>\n",
              "      <td>comedy</td>\n",
              "      <td>play</td>\n",
              "      <td>norwich</td>\n",
              "      <td>collection</td>\n",
              "    </tr>\n",
              "    <tr>\n",
              "      <th>11</th>\n",
              "      <td>users</td>\n",
              "      <td>won</td>\n",
              "      <td>team</td>\n",
              "      <td>seconds</td>\n",
              "      <td>concert</td>\n",
              "    </tr>\n",
              "    <tr>\n",
              "      <th>12</th>\n",
              "      <td>economy</td>\n",
              "      <td>director</td>\n",
              "      <td>wales</td>\n",
              "      <td>400m</td>\n",
              "      <td>madrid</td>\n",
              "    </tr>\n",
              "    <tr>\n",
              "      <th>13</th>\n",
              "      <td>companies</td>\n",
              "      <td>ceremony</td>\n",
              "      <td>match</td>\n",
              "      <td>peak</td>\n",
              "      <td>peak</td>\n",
              "    </tr>\n",
              "    <tr>\n",
              "      <th>14</th>\n",
              "      <td>firms</td>\n",
              "      <td>nominations</td>\n",
              "      <td>think</td>\n",
              "      <td>44</td>\n",
              "      <td>stations</td>\n",
              "    </tr>\n",
              "    <tr>\n",
              "      <th>15</th>\n",
              "      <td>digital</td>\n",
              "      <td>nominated</td>\n",
              "      <td>good</td>\n",
              "      <td>gold</td>\n",
              "      <td>fought</td>\n",
              "    </tr>\n",
              "    <tr>\n",
              "      <th>16</th>\n",
              "      <td>net</td>\n",
              "      <td>prize</td>\n",
              "      <td>final</td>\n",
              "      <td>attracted</td>\n",
              "      <td>semi</td>\n",
              "    </tr>\n",
              "    <tr>\n",
              "      <th>17</th>\n",
              "      <td>bank</td>\n",
              "      <td>stars</td>\n",
              "      <td>cup</td>\n",
              "      <td>100m</td>\n",
              "      <td>scandal</td>\n",
              "    </tr>\n",
              "    <tr>\n",
              "      <th>18</th>\n",
              "      <td>phone</td>\n",
              "      <td>movie</td>\n",
              "      <td>britain</td>\n",
              "      <td>alexander</td>\n",
              "      <td>proposed</td>\n",
              "    </tr>\n",
              "    <tr>\n",
              "      <th>19</th>\n",
              "      <td>shares</td>\n",
              "      <td>hollywood</td>\n",
              "      <td>old</td>\n",
              "      <td>athlete</td>\n",
              "      <td>sharing</td>\n",
              "    </tr>\n",
              "  </tbody>\n",
              "</table>\n",
              "</div>"
            ],
            "text/plain": [
              "       Topic 1      Topic 2   Topic 3        Topic 4       Topic 5\n",
              "0        music         film    labour         indoor      finances\n",
              "1       market         best      game            60m        formal\n",
              "2        sales       awards  election           jump         audio\n",
              "3      company        award     party        fastest         shops\n",
              "4       mobile        actor     blair          medal  introduction\n",
              "5       growth     festival   england         silver      investor\n",
              "6         2004        films       win     birmingham    popularity\n",
              "7         firm         star     brown           000m    motorcycle\n",
              "8   technology      actress      club        olympic         falls\n",
              "9      million        oscar  minister  championships       chicago\n",
              "10    software       comedy      play        norwich    collection\n",
              "11       users          won      team        seconds       concert\n",
              "12     economy     director     wales           400m        madrid\n",
              "13   companies     ceremony     match           peak          peak\n",
              "14       firms  nominations     think             44      stations\n",
              "15     digital    nominated      good           gold        fought\n",
              "16         net        prize     final      attracted          semi\n",
              "17        bank        stars       cup           100m       scandal\n",
              "18       phone        movie   britain      alexander      proposed\n",
              "19      shares    hollywood       old        athlete       sharing"
            ]
          },
          "execution_count": 19,
          "metadata": {},
          "output_type": "execute_result"
        }
      ],
      "source": [
        "#top words in each topic\n",
        "top_words = {}\n",
        "for topic, words_ in topics.items():\n",
        "    top_words[topic] = words_.nlargest(20).index.tolist()\n",
        "pd.DataFrame(top_words)"
      ]
    },
    {
      "cell_type": "code",
      "execution_count": null,
      "id": "4d276a43",
      "metadata": {
        "execution": {
          "iopub.execute_input": "2022-11-13T13:44:07.519667Z",
          "iopub.status.busy": "2022-11-13T13:44:07.518878Z",
          "iopub.status.idle": "2022-11-13T13:44:07.705275Z",
          "shell.execute_reply": "2022-11-13T13:44:07.704338Z"
        },
        "papermill": {
          "duration": 0.202118,
          "end_time": "2022-11-13T13:44:07.708047",
          "exception": false,
          "start_time": "2022-11-13T13:44:07.505929",
          "status": "completed"
        },
        "tags": [],
        "id": "4d276a43",
        "outputId": "c58963d6-6250-4051-efde-07fb87502f8d"
      },
      "outputs": [
        {
          "data": {
            "text/plain": [
              "(2175, 5)"
            ]
          },
          "execution_count": 20,
          "metadata": {},
          "output_type": "execute_result"
        }
      ],
      "source": [
        "train_preds = lda_base.transform(train_dtm)\n",
        "train_preds.shape"
      ]
    },
    {
      "cell_type": "code",
      "execution_count": null,
      "id": "b2e5c84c",
      "metadata": {
        "execution": {
          "iopub.execute_input": "2022-11-13T13:44:07.732619Z",
          "iopub.status.busy": "2022-11-13T13:44:07.732195Z",
          "iopub.status.idle": "2022-11-13T13:44:07.740916Z",
          "shell.execute_reply": "2022-11-13T13:44:07.739839Z"
        },
        "papermill": {
          "duration": 0.024046,
          "end_time": "2022-11-13T13:44:07.743554",
          "exception": false,
          "start_time": "2022-11-13T13:44:07.719508",
          "status": "completed"
        },
        "tags": [],
        "id": "b2e5c84c",
        "outputId": "0c9a3f61-d991-4eff-8e74-0f420003c2b1"
      },
      "outputs": [
        {
          "name": "stdout",
          "output_type": "stream",
          "text": [
            "[[0.29276688 0.26561283 0.39384379 0.02388798 0.02388852]\n",
            " [0.89354023 0.02650461 0.02731994 0.02631721 0.02631801]\n",
            " [0.43499228 0.48750027 0.02718823 0.02515928 0.02515994]\n",
            " [0.90948909 0.02247398 0.02335754 0.02233946 0.02233993]\n",
            " [0.02415362 0.02407874 0.90440689 0.02368019 0.02368056]]\n"
          ]
        },
        {
          "data": {
            "text/plain": [
              "array([2, 0, 1, 0, 2])"
            ]
          },
          "execution_count": 21,
          "metadata": {},
          "output_type": "execute_result"
        }
      ],
      "source": [
        "t = train_preds[0:5]\n",
        "print(t)\n",
        "np.argmax(t,axis =1)"
      ]
    },
    {
      "cell_type": "code",
      "execution_count": null,
      "id": "bc7c1607",
      "metadata": {
        "execution": {
          "iopub.execute_input": "2022-11-13T13:44:07.769009Z",
          "iopub.status.busy": "2022-11-13T13:44:07.768582Z",
          "iopub.status.idle": "2022-11-13T13:44:07.782568Z",
          "shell.execute_reply": "2022-11-13T13:44:07.781597Z"
        },
        "papermill": {
          "duration": 0.029107,
          "end_time": "2022-11-13T13:44:07.784766",
          "exception": false,
          "start_time": "2022-11-13T13:44:07.755659",
          "status": "completed"
        },
        "tags": [],
        "id": "bc7c1607",
        "outputId": "b83a802d-b953-421b-ffbe-eb4f918fbc51"
      },
      "outputs": [
        {
          "data": {
            "text/html": [
              "<div>\n",
              "<style scoped>\n",
              "    .dataframe tbody tr th:only-of-type {\n",
              "        vertical-align: middle;\n",
              "    }\n",
              "\n",
              "    .dataframe tbody tr th {\n",
              "        vertical-align: top;\n",
              "    }\n",
              "\n",
              "    .dataframe thead th {\n",
              "        text-align: right;\n",
              "    }\n",
              "</style>\n",
              "<table border=\"1\" class=\"dataframe\">\n",
              "  <thead>\n",
              "    <tr style=\"text-align: right;\">\n",
              "      <th></th>\n",
              "      <th>Topic 1</th>\n",
              "      <th>Topic 2</th>\n",
              "      <th>Topic 3</th>\n",
              "      <th>Topic 4</th>\n",
              "      <th>Topic 5</th>\n",
              "    </tr>\n",
              "    <tr>\n",
              "      <th>Category</th>\n",
              "      <th></th>\n",
              "      <th></th>\n",
              "      <th></th>\n",
              "      <th></th>\n",
              "      <th></th>\n",
              "    </tr>\n",
              "  </thead>\n",
              "  <tbody>\n",
              "    <tr>\n",
              "      <th>entertainment</th>\n",
              "      <td>0.29</td>\n",
              "      <td>0.27</td>\n",
              "      <td>0.39</td>\n",
              "      <td>0.02</td>\n",
              "      <td>0.02</td>\n",
              "    </tr>\n",
              "    <tr>\n",
              "      <th>tech</th>\n",
              "      <td>0.89</td>\n",
              "      <td>0.03</td>\n",
              "      <td>0.03</td>\n",
              "      <td>0.03</td>\n",
              "      <td>0.03</td>\n",
              "    </tr>\n",
              "    <tr>\n",
              "      <th>entertainment</th>\n",
              "      <td>0.43</td>\n",
              "      <td>0.49</td>\n",
              "      <td>0.03</td>\n",
              "      <td>0.03</td>\n",
              "      <td>0.03</td>\n",
              "    </tr>\n",
              "    <tr>\n",
              "      <th>business</th>\n",
              "      <td>0.91</td>\n",
              "      <td>0.02</td>\n",
              "      <td>0.02</td>\n",
              "      <td>0.02</td>\n",
              "      <td>0.02</td>\n",
              "    </tr>\n",
              "    <tr>\n",
              "      <th>sport</th>\n",
              "      <td>0.02</td>\n",
              "      <td>0.02</td>\n",
              "      <td>0.90</td>\n",
              "      <td>0.02</td>\n",
              "      <td>0.02</td>\n",
              "    </tr>\n",
              "    <tr>\n",
              "      <th>business</th>\n",
              "      <td>0.90</td>\n",
              "      <td>0.02</td>\n",
              "      <td>0.02</td>\n",
              "      <td>0.02</td>\n",
              "      <td>0.02</td>\n",
              "    </tr>\n",
              "    <tr>\n",
              "      <th>politics</th>\n",
              "      <td>0.02</td>\n",
              "      <td>0.02</td>\n",
              "      <td>0.93</td>\n",
              "      <td>0.02</td>\n",
              "      <td>0.02</td>\n",
              "    </tr>\n",
              "    <tr>\n",
              "      <th>politics</th>\n",
              "      <td>0.02</td>\n",
              "      <td>0.02</td>\n",
              "      <td>0.91</td>\n",
              "      <td>0.02</td>\n",
              "      <td>0.02</td>\n",
              "    </tr>\n",
              "    <tr>\n",
              "      <th>business</th>\n",
              "      <td>0.92</td>\n",
              "      <td>0.02</td>\n",
              "      <td>0.02</td>\n",
              "      <td>0.02</td>\n",
              "      <td>0.02</td>\n",
              "    </tr>\n",
              "    <tr>\n",
              "      <th>tech</th>\n",
              "      <td>0.91</td>\n",
              "      <td>0.02</td>\n",
              "      <td>0.02</td>\n",
              "      <td>0.02</td>\n",
              "      <td>0.02</td>\n",
              "    </tr>\n",
              "  </tbody>\n",
              "</table>\n",
              "</div>"
            ],
            "text/plain": [
              "               Topic 1  Topic 2  Topic 3  Topic 4  Topic 5\n",
              "Category                                                  \n",
              "entertainment     0.29     0.27     0.39     0.02     0.02\n",
              "tech              0.89     0.03     0.03     0.03     0.03\n",
              "entertainment     0.43     0.49     0.03     0.03     0.03\n",
              "business          0.91     0.02     0.02     0.02     0.02\n",
              "sport             0.02     0.02     0.90     0.02     0.02\n",
              "business          0.90     0.02     0.02     0.02     0.02\n",
              "politics          0.02     0.02     0.93     0.02     0.02\n",
              "politics          0.02     0.02     0.91     0.02     0.02\n",
              "business          0.92     0.02     0.02     0.02     0.02\n",
              "tech              0.91     0.02     0.02     0.02     0.02"
            ]
          },
          "execution_count": 22,
          "metadata": {},
          "output_type": "execute_result"
        }
      ],
      "source": [
        "train_eval = pd.DataFrame(train_preds, columns=topic_labels, index=train_docs.Category)\n",
        "train_eval.head(n=10)"
      ]
    },
    {
      "cell_type": "code",
      "execution_count": null,
      "id": "f2022a85",
      "metadata": {
        "execution": {
          "iopub.execute_input": "2022-11-13T13:44:07.810551Z",
          "iopub.status.busy": "2022-11-13T13:44:07.810107Z",
          "iopub.status.idle": "2022-11-13T13:44:07.822314Z",
          "shell.execute_reply": "2022-11-13T13:44:07.821176Z"
        },
        "papermill": {
          "duration": 0.027989,
          "end_time": "2022-11-13T13:44:07.824579",
          "exception": false,
          "start_time": "2022-11-13T13:44:07.796590",
          "status": "completed"
        },
        "tags": [],
        "id": "f2022a85",
        "outputId": "a7af352e-fdf4-4591-8aa3-1caa961b103e"
      },
      "outputs": [
        {
          "data": {
            "text/plain": [
              "Category                                             business\n",
              "Heading                    The 'ticking budget' facing the US\n",
              "Article      The budget proposals laid out by the administ...\n",
              "Name: 1, dtype: object"
            ]
          },
          "execution_count": 23,
          "metadata": {},
          "output_type": "execute_result"
        }
      ],
      "source": [
        "train_docs.loc[1,:]"
      ]
    },
    {
      "cell_type": "code",
      "execution_count": null,
      "id": "2f4a1a4e",
      "metadata": {
        "execution": {
          "iopub.execute_input": "2022-11-13T13:44:07.850195Z",
          "iopub.status.busy": "2022-11-13T13:44:07.849770Z",
          "iopub.status.idle": "2022-11-13T13:44:08.214782Z",
          "shell.execute_reply": "2022-11-13T13:44:08.213832Z"
        },
        "papermill": {
          "duration": 0.380438,
          "end_time": "2022-11-13T13:44:08.217053",
          "exception": false,
          "start_time": "2022-11-13T13:44:07.836615",
          "status": "completed"
        },
        "tags": [],
        "id": "2f4a1a4e",
        "outputId": "1dd0b6b4-dc99-4a11-85f5-8ec1aaafd782"
      },
      "outputs": [
        {
          "data": {
            "text/plain": [
              "<AxesSubplot:title={'center':'Avg. Topic Probabilities'}, xlabel='Category'>"
            ]
          },
          "execution_count": 24,
          "metadata": {},
          "output_type": "execute_result"
        },
        {
          "data": {
            "image/png": "[encoded data removed]",
            "text/plain": [
              "<Figure size 1008x626.4 with 1 Axes>"
            ]
          },
          "metadata": {},
          "output_type": "display_data"
        }
      ],
      "source": [
        "train_eval.groupby(level='Category').mean().plot.bar(title='Avg. Topic Probabilities')"
      ]
    },
    {
      "cell_type": "code",
      "execution_count": null,
      "id": "cc6294f5",
      "metadata": {
        "execution": {
          "iopub.execute_input": "2022-11-13T13:44:08.244525Z",
          "iopub.status.busy": "2022-11-13T13:44:08.244067Z",
          "iopub.status.idle": "2022-11-13T13:44:08.580200Z",
          "shell.execute_reply": "2022-11-13T13:44:08.579278Z"
        },
        "papermill": {
          "duration": 0.35231,
          "end_time": "2022-11-13T13:44:08.582349",
          "exception": false,
          "start_time": "2022-11-13T13:44:08.230039",
          "status": "completed"
        },
        "tags": [],
        "id": "cc6294f5",
        "outputId": "b8cdd0dd-a90e-404a-d145-036518db028d"
      },
      "outputs": [
        {
          "data": {
            "text/plain": [
              "Text(0.5, 1.0, 'Train Data: Topic Assignments')"
            ]
          },
          "execution_count": 25,
          "metadata": {},
          "output_type": "execute_result"
        },
        {
          "data": {
            "image/png": "[encoded data removed]",
            "text/plain": [
              "<Figure size 1008x626.4 with 2 Axes>"
            ]
          },
          "metadata": {},
          "output_type": "display_data"
        }
      ],
      "source": [
        "df = train_eval.groupby(level='Category').idxmax(\n",
        "    axis=1).reset_index(-1, drop=True)\n",
        "sns.heatmap(df.groupby(level='Category').value_counts(normalize=True)\n",
        "            .unstack(-1), annot=True, fmt='.1%', cmap='Blues', square=True)\n",
        "plt.title('Train Data: Topic Assignments')"
      ]
    },
    {
      "cell_type": "code",
      "execution_count": null,
      "id": "6ac5acf2",
      "metadata": {
        "execution": {
          "iopub.execute_input": "2022-11-13T13:44:08.612041Z",
          "iopub.status.busy": "2022-11-13T13:44:08.611176Z",
          "iopub.status.idle": "2022-11-13T13:44:08.625899Z",
          "shell.execute_reply": "2022-11-13T13:44:08.625019Z"
        },
        "papermill": {
          "duration": 0.032006,
          "end_time": "2022-11-13T13:44:08.628314",
          "exception": false,
          "start_time": "2022-11-13T13:44:08.596308",
          "status": "completed"
        },
        "tags": [],
        "id": "6ac5acf2",
        "outputId": "463293d1-e0a7-4f4b-d805-e183c1eaf013"
      },
      "outputs": [
        {
          "data": {
            "text/html": [
              "<div>\n",
              "<style scoped>\n",
              "    .dataframe tbody tr th:only-of-type {\n",
              "        vertical-align: middle;\n",
              "    }\n",
              "\n",
              "    .dataframe tbody tr th {\n",
              "        vertical-align: top;\n",
              "    }\n",
              "\n",
              "    .dataframe thead th {\n",
              "        text-align: right;\n",
              "    }\n",
              "</style>\n",
              "<table border=\"1\" class=\"dataframe\">\n",
              "  <thead>\n",
              "    <tr style=\"text-align: right;\">\n",
              "      <th></th>\n",
              "      <th>Topic 1</th>\n",
              "      <th>Topic 2</th>\n",
              "      <th>Topic 3</th>\n",
              "    </tr>\n",
              "    <tr>\n",
              "      <th>Category</th>\n",
              "      <th></th>\n",
              "      <th></th>\n",
              "      <th></th>\n",
              "    </tr>\n",
              "  </thead>\n",
              "  <tbody>\n",
              "    <tr>\n",
              "      <th>business</th>\n",
              "      <td>0.78</td>\n",
              "      <td>NaN</td>\n",
              "      <td>0.22</td>\n",
              "    </tr>\n",
              "    <tr>\n",
              "      <th>entertainment</th>\n",
              "      <td>0.33</td>\n",
              "      <td>0.29</td>\n",
              "      <td>0.38</td>\n",
              "    </tr>\n",
              "    <tr>\n",
              "      <th>politics</th>\n",
              "      <td>0.01</td>\n",
              "      <td>NaN</td>\n",
              "      <td>0.99</td>\n",
              "    </tr>\n",
              "    <tr>\n",
              "      <th>sport</th>\n",
              "      <td>NaN</td>\n",
              "      <td>NaN</td>\n",
              "      <td>1.00</td>\n",
              "    </tr>\n",
              "    <tr>\n",
              "      <th>tech</th>\n",
              "      <td>0.94</td>\n",
              "      <td>NaN</td>\n",
              "      <td>0.06</td>\n",
              "    </tr>\n",
              "  </tbody>\n",
              "</table>\n",
              "</div>"
            ],
            "text/plain": [
              "               Topic 1  Topic 2  Topic 3\n",
              "Category                                \n",
              "business          0.78      NaN     0.22\n",
              "entertainment     0.33     0.29     0.38\n",
              "politics          0.01      NaN     0.99\n",
              "sport              NaN      NaN     1.00\n",
              "tech              0.94      NaN     0.06"
            ]
          },
          "execution_count": 26,
          "metadata": {},
          "output_type": "execute_result"
        }
      ],
      "source": [
        "df.groupby(level='Category').value_counts(normalize=True).unstack(-1)"
      ]
    },
    {
      "cell_type": "code",
      "execution_count": null,
      "id": "b16c6781",
      "metadata": {
        "execution": {
          "iopub.execute_input": "2022-11-13T13:44:08.658191Z",
          "iopub.status.busy": "2022-11-13T13:44:08.657062Z",
          "iopub.status.idle": "2022-11-13T13:44:08.679526Z",
          "shell.execute_reply": "2022-11-13T13:44:08.678661Z"
        },
        "papermill": {
          "duration": 0.039606,
          "end_time": "2022-11-13T13:44:08.681725",
          "exception": false,
          "start_time": "2022-11-13T13:44:08.642119",
          "status": "completed"
        },
        "tags": [],
        "id": "b16c6781",
        "outputId": "516cb476-e7a6-4df8-dbc1-89478cad8361"
      },
      "outputs": [
        {
          "data": {
            "text/plain": [
              "<50x2908 sparse matrix of type '<class 'numpy.float64'>'\n",
              "\twith 4689 stored elements in Compressed Sparse Row format>"
            ]
          },
          "execution_count": 27,
          "metadata": {},
          "output_type": "execute_result"
        }
      ],
      "source": [
        "test_dtm = vectorizer.transform(test_docs.Article)\n",
        "test_dtm"
      ]
    },
    {
      "cell_type": "code",
      "execution_count": null,
      "id": "2dbf5733",
      "metadata": {
        "execution": {
          "iopub.execute_input": "2022-11-13T13:44:08.711316Z",
          "iopub.status.busy": "2022-11-13T13:44:08.710608Z",
          "iopub.status.idle": "2022-11-13T13:44:08.738984Z",
          "shell.execute_reply": "2022-11-13T13:44:08.737683Z"
        },
        "papermill": {
          "duration": 0.046695,
          "end_time": "2022-11-13T13:44:08.742096",
          "exception": false,
          "start_time": "2022-11-13T13:44:08.695401",
          "status": "completed"
        },
        "tags": [],
        "id": "2dbf5733",
        "outputId": "df1b0d3a-4771-4ca4-9c4a-23536ca1e87f"
      },
      "outputs": [
        {
          "data": {
            "text/html": [
              "<div>\n",
              "<style scoped>\n",
              "    .dataframe tbody tr th:only-of-type {\n",
              "        vertical-align: middle;\n",
              "    }\n",
              "\n",
              "    .dataframe tbody tr th {\n",
              "        vertical-align: top;\n",
              "    }\n",
              "\n",
              "    .dataframe thead th {\n",
              "        text-align: right;\n",
              "    }\n",
              "</style>\n",
              "<table border=\"1\" class=\"dataframe\">\n",
              "  <thead>\n",
              "    <tr style=\"text-align: right;\">\n",
              "      <th></th>\n",
              "      <th>Topic 1</th>\n",
              "      <th>Topic 2</th>\n",
              "      <th>Topic 3</th>\n",
              "      <th>Topic 4</th>\n",
              "      <th>Topic 5</th>\n",
              "    </tr>\n",
              "    <tr>\n",
              "      <th>Category</th>\n",
              "      <th></th>\n",
              "      <th></th>\n",
              "      <th></th>\n",
              "      <th></th>\n",
              "      <th></th>\n",
              "    </tr>\n",
              "  </thead>\n",
              "  <tbody>\n",
              "    <tr>\n",
              "      <th>entertainment</th>\n",
              "      <td>0.15</td>\n",
              "      <td>0.57</td>\n",
              "      <td>0.21</td>\n",
              "      <td>0.03</td>\n",
              "      <td>0.03</td>\n",
              "    </tr>\n",
              "    <tr>\n",
              "      <th>tech</th>\n",
              "      <td>0.93</td>\n",
              "      <td>0.02</td>\n",
              "      <td>0.02</td>\n",
              "      <td>0.02</td>\n",
              "      <td>0.02</td>\n",
              "    </tr>\n",
              "    <tr>\n",
              "      <th>tech</th>\n",
              "      <td>0.71</td>\n",
              "      <td>0.02</td>\n",
              "      <td>0.22</td>\n",
              "      <td>0.02</td>\n",
              "      <td>0.02</td>\n",
              "    </tr>\n",
              "    <tr>\n",
              "      <th>business</th>\n",
              "      <td>0.70</td>\n",
              "      <td>0.02</td>\n",
              "      <td>0.24</td>\n",
              "      <td>0.02</td>\n",
              "      <td>0.02</td>\n",
              "    </tr>\n",
              "    <tr>\n",
              "      <th>sport</th>\n",
              "      <td>0.03</td>\n",
              "      <td>0.03</td>\n",
              "      <td>0.88</td>\n",
              "      <td>0.03</td>\n",
              "      <td>0.03</td>\n",
              "    </tr>\n",
              "  </tbody>\n",
              "</table>\n",
              "</div>"
            ],
            "text/plain": [
              "               Topic 1  Topic 2  Topic 3  Topic 4  Topic 5\n",
              "Category                                                  \n",
              "entertainment     0.15     0.57     0.21     0.03     0.03\n",
              "tech              0.93     0.02     0.02     0.02     0.02\n",
              "tech              0.71     0.02     0.22     0.02     0.02\n",
              "business          0.70     0.02     0.24     0.02     0.02\n",
              "sport             0.03     0.03     0.88     0.03     0.03"
            ]
          },
          "execution_count": 28,
          "metadata": {},
          "output_type": "execute_result"
        }
      ],
      "source": [
        "test_preds = lda_base.transform(test_dtm)\n",
        "test_eval = pd.DataFrame(test_preds, columns=topic_labels, index=test_docs.Category)\n",
        "test_eval.head()"
      ]
    },
    {
      "cell_type": "code",
      "execution_count": null,
      "id": "86e1442e",
      "metadata": {
        "execution": {
          "iopub.execute_input": "2022-11-13T13:44:08.771663Z",
          "iopub.status.busy": "2022-11-13T13:44:08.771231Z",
          "iopub.status.idle": "2022-11-13T13:44:09.110135Z",
          "shell.execute_reply": "2022-11-13T13:44:09.108999Z"
        },
        "papermill": {
          "duration": 0.356662,
          "end_time": "2022-11-13T13:44:09.112660",
          "exception": false,
          "start_time": "2022-11-13T13:44:08.755998",
          "status": "completed"
        },
        "tags": [],
        "id": "86e1442e",
        "outputId": "c6aab89c-49c7-4c00-9f4b-e3430fed054e"
      },
      "outputs": [
        {
          "data": {
            "image/png": "[encoded data removed]",
            "text/plain": [
              "<Figure size 1008x626.4 with 2 Axes>"
            ]
          },
          "metadata": {},
          "output_type": "display_data"
        }
      ],
      "source": [
        "df = test_eval.groupby(level='Category').idxmax(\n",
        "    axis=1).reset_index(-1, drop=True)\n",
        "sns.heatmap(df.groupby(level='Category').value_counts(normalize=True)\n",
        "            .unstack(-1), annot=True, fmt='.1%', cmap='Blues', square=True)\n",
        "plt.title('Topic Assignments');"
      ]
    },
    {
      "cell_type": "code",
      "execution_count": null,
      "id": "8f216921",
      "metadata": {
        "execution": {
          "iopub.execute_input": "2022-11-13T13:44:09.142408Z",
          "iopub.status.busy": "2022-11-13T13:44:09.141925Z",
          "iopub.status.idle": "2022-11-13T13:44:09.324819Z",
          "shell.execute_reply": "2022-11-13T13:44:09.323933Z"
        },
        "papermill": {
          "duration": 0.200594,
          "end_time": "2022-11-13T13:44:09.327431",
          "exception": false,
          "start_time": "2022-11-13T13:44:09.126837",
          "status": "completed"
        },
        "tags": [],
        "id": "8f216921"
      },
      "outputs": [],
      "source": [
        "# Create Training Dataframe for Comparing Misclassified documents\n",
        "train_opt_eval = pd.DataFrame(data=lda_base.transform(train_dtm),\n",
        "                              columns=topic_labels,\n",
        "                              index=train_docs.Category)"
      ]
    },
    {
      "cell_type": "code",
      "execution_count": null,
      "id": "1d240901",
      "metadata": {
        "execution": {
          "iopub.execute_input": "2022-11-13T13:44:09.357400Z",
          "iopub.status.busy": "2022-11-13T13:44:09.356955Z",
          "iopub.status.idle": "2022-11-13T13:44:09.369315Z",
          "shell.execute_reply": "2022-11-13T13:44:09.368221Z"
        },
        "papermill": {
          "duration": 0.030099,
          "end_time": "2022-11-13T13:44:09.371532",
          "exception": false,
          "start_time": "2022-11-13T13:44:09.341433",
          "status": "completed"
        },
        "tags": [],
        "id": "1d240901",
        "outputId": "9a62c3db-05ac-4ddf-fcae-73e5d7bb3c9f"
      },
      "outputs": [
        {
          "data": {
            "text/html": [
              "<div>\n",
              "<style scoped>\n",
              "    .dataframe tbody tr th:only-of-type {\n",
              "        vertical-align: middle;\n",
              "    }\n",
              "\n",
              "    .dataframe tbody tr th {\n",
              "        vertical-align: top;\n",
              "    }\n",
              "\n",
              "    .dataframe thead th {\n",
              "        text-align: right;\n",
              "    }\n",
              "</style>\n",
              "<table border=\"1\" class=\"dataframe\">\n",
              "  <thead>\n",
              "    <tr style=\"text-align: right;\">\n",
              "      <th></th>\n",
              "      <th>Topic 1</th>\n",
              "      <th>Topic 2</th>\n",
              "      <th>Topic 3</th>\n",
              "      <th>Topic 4</th>\n",
              "      <th>Topic 5</th>\n",
              "    </tr>\n",
              "    <tr>\n",
              "      <th>Category</th>\n",
              "      <th></th>\n",
              "      <th></th>\n",
              "      <th></th>\n",
              "      <th></th>\n",
              "      <th></th>\n",
              "    </tr>\n",
              "  </thead>\n",
              "  <tbody>\n",
              "    <tr>\n",
              "      <th>entertainment</th>\n",
              "      <td>0.29</td>\n",
              "      <td>0.27</td>\n",
              "      <td>0.39</td>\n",
              "      <td>0.02</td>\n",
              "      <td>0.02</td>\n",
              "    </tr>\n",
              "    <tr>\n",
              "      <th>tech</th>\n",
              "      <td>0.89</td>\n",
              "      <td>0.03</td>\n",
              "      <td>0.03</td>\n",
              "      <td>0.03</td>\n",
              "      <td>0.03</td>\n",
              "    </tr>\n",
              "    <tr>\n",
              "      <th>entertainment</th>\n",
              "      <td>0.43</td>\n",
              "      <td>0.49</td>\n",
              "      <td>0.03</td>\n",
              "      <td>0.03</td>\n",
              "      <td>0.03</td>\n",
              "    </tr>\n",
              "    <tr>\n",
              "      <th>business</th>\n",
              "      <td>0.91</td>\n",
              "      <td>0.02</td>\n",
              "      <td>0.02</td>\n",
              "      <td>0.02</td>\n",
              "      <td>0.02</td>\n",
              "    </tr>\n",
              "    <tr>\n",
              "      <th>sport</th>\n",
              "      <td>0.02</td>\n",
              "      <td>0.02</td>\n",
              "      <td>0.90</td>\n",
              "      <td>0.02</td>\n",
              "      <td>0.02</td>\n",
              "    </tr>\n",
              "  </tbody>\n",
              "</table>\n",
              "</div>"
            ],
            "text/plain": [
              "               Topic 1  Topic 2  Topic 3  Topic 4  Topic 5\n",
              "Category                                                  \n",
              "entertainment     0.29     0.27     0.39     0.02     0.02\n",
              "tech              0.89     0.03     0.03     0.03     0.03\n",
              "entertainment     0.43     0.49     0.03     0.03     0.03\n",
              "business          0.91     0.02     0.02     0.02     0.02\n",
              "sport             0.02     0.02     0.90     0.02     0.02"
            ]
          },
          "execution_count": 31,
          "metadata": {},
          "output_type": "execute_result"
        }
      ],
      "source": [
        "train_opt_eval.head()"
      ]
    },
    {
      "cell_type": "code",
      "execution_count": null,
      "id": "63abefa0",
      "metadata": {
        "execution": {
          "iopub.execute_input": "2022-11-13T13:44:09.401497Z",
          "iopub.status.busy": "2022-11-13T13:44:09.400932Z",
          "iopub.status.idle": "2022-11-13T13:44:09.424488Z",
          "shell.execute_reply": "2022-11-13T13:44:09.422689Z"
        },
        "papermill": {
          "duration": 0.041488,
          "end_time": "2022-11-13T13:44:09.427121",
          "exception": false,
          "start_time": "2022-11-13T13:44:09.385633",
          "status": "completed"
        },
        "tags": [],
        "id": "63abefa0"
      },
      "outputs": [],
      "source": [
        "test_opt_eval = pd.DataFrame(data=lda_base.transform(test_dtm),\n",
        "                              columns=topic_labels,\n",
        "                              index=test_docs.Category)"
      ]
    },
    {
      "cell_type": "code",
      "execution_count": null,
      "id": "15bc4346",
      "metadata": {
        "execution": {
          "iopub.execute_input": "2022-11-13T13:44:09.458859Z",
          "iopub.status.busy": "2022-11-13T13:44:09.458424Z",
          "iopub.status.idle": "2022-11-13T13:44:09.470586Z",
          "shell.execute_reply": "2022-11-13T13:44:09.469699Z"
        },
        "papermill": {
          "duration": 0.030452,
          "end_time": "2022-11-13T13:44:09.472822",
          "exception": false,
          "start_time": "2022-11-13T13:44:09.442370",
          "status": "completed"
        },
        "tags": [],
        "id": "15bc4346",
        "outputId": "e6c1220c-b8ce-4d4f-9776-eb4bdbafcb99"
      },
      "outputs": [
        {
          "data": {
            "text/html": [
              "<div>\n",
              "<style scoped>\n",
              "    .dataframe tbody tr th:only-of-type {\n",
              "        vertical-align: middle;\n",
              "    }\n",
              "\n",
              "    .dataframe tbody tr th {\n",
              "        vertical-align: top;\n",
              "    }\n",
              "\n",
              "    .dataframe thead th {\n",
              "        text-align: right;\n",
              "    }\n",
              "</style>\n",
              "<table border=\"1\" class=\"dataframe\">\n",
              "  <thead>\n",
              "    <tr style=\"text-align: right;\">\n",
              "      <th></th>\n",
              "      <th>Topic 1</th>\n",
              "      <th>Topic 2</th>\n",
              "      <th>Topic 3</th>\n",
              "      <th>Topic 4</th>\n",
              "      <th>Topic 5</th>\n",
              "    </tr>\n",
              "    <tr>\n",
              "      <th>Category</th>\n",
              "      <th></th>\n",
              "      <th></th>\n",
              "      <th></th>\n",
              "      <th></th>\n",
              "      <th></th>\n",
              "    </tr>\n",
              "  </thead>\n",
              "  <tbody>\n",
              "    <tr>\n",
              "      <th>entertainment</th>\n",
              "      <td>0.15</td>\n",
              "      <td>0.57</td>\n",
              "      <td>0.21</td>\n",
              "      <td>0.03</td>\n",
              "      <td>0.03</td>\n",
              "    </tr>\n",
              "    <tr>\n",
              "      <th>tech</th>\n",
              "      <td>0.93</td>\n",
              "      <td>0.02</td>\n",
              "      <td>0.02</td>\n",
              "      <td>0.02</td>\n",
              "      <td>0.02</td>\n",
              "    </tr>\n",
              "    <tr>\n",
              "      <th>tech</th>\n",
              "      <td>0.71</td>\n",
              "      <td>0.02</td>\n",
              "      <td>0.22</td>\n",
              "      <td>0.02</td>\n",
              "      <td>0.02</td>\n",
              "    </tr>\n",
              "    <tr>\n",
              "      <th>business</th>\n",
              "      <td>0.70</td>\n",
              "      <td>0.02</td>\n",
              "      <td>0.24</td>\n",
              "      <td>0.02</td>\n",
              "      <td>0.02</td>\n",
              "    </tr>\n",
              "    <tr>\n",
              "      <th>sport</th>\n",
              "      <td>0.03</td>\n",
              "      <td>0.03</td>\n",
              "      <td>0.88</td>\n",
              "      <td>0.03</td>\n",
              "      <td>0.03</td>\n",
              "    </tr>\n",
              "  </tbody>\n",
              "</table>\n",
              "</div>"
            ],
            "text/plain": [
              "               Topic 1  Topic 2  Topic 3  Topic 4  Topic 5\n",
              "Category                                                  \n",
              "entertainment     0.15     0.57     0.21     0.03     0.03\n",
              "tech              0.93     0.02     0.02     0.02     0.02\n",
              "tech              0.71     0.02     0.22     0.02     0.02\n",
              "business          0.70     0.02     0.24     0.02     0.02\n",
              "sport             0.03     0.03     0.88     0.03     0.03"
            ]
          },
          "execution_count": 33,
          "metadata": {},
          "output_type": "execute_result"
        }
      ],
      "source": [
        "test_opt_eval.head()"
      ]
    },
    {
      "cell_type": "code",
      "execution_count": null,
      "id": "9fb37157",
      "metadata": {
        "execution": {
          "iopub.execute_input": "2022-11-13T13:44:09.504702Z",
          "iopub.status.busy": "2022-11-13T13:44:09.503842Z",
          "iopub.status.idle": "2022-11-13T13:44:10.134340Z",
          "shell.execute_reply": "2022-11-13T13:44:10.133243Z"
        },
        "papermill": {
          "duration": 0.649103,
          "end_time": "2022-11-13T13:44:10.136678",
          "exception": false,
          "start_time": "2022-11-13T13:44:09.487575",
          "status": "completed"
        },
        "tags": [],
        "id": "9fb37157",
        "outputId": "76b561c8-a1f0-452e-c965-3aac9d095c37"
      },
      "outputs": [
        {
          "data": {
            "image/png": "[encoded data removed]",
            "text/plain": [
              "<Figure size 1008x626.4 with 4 Axes>"
            ]
          },
          "metadata": {},
          "output_type": "display_data"
        }
      ],
      "source": [
        "## Comparing Side by Side\n",
        "fig, axes = plt.subplots(ncols=2)\n",
        "source = ['Train', 'Test']\n",
        "for i, df in enumerate([train_opt_eval, test_opt_eval]):\n",
        "    df = df.groupby(level='Category').idxmax(\n",
        "    axis=1).reset_index(-1, drop=True)\n",
        "    sns.heatmap(df.groupby(level='Category').value_counts(normalize=True)\n",
        "            .unstack(-1), annot=True, fmt='.1%', cmap='Blues', square=True, ax=axes[i])\n",
        "    axes[i].set_title('{} Data: Topic Assignments'.format(source[i]));"
      ]
    },
    {
      "cell_type": "code",
      "execution_count": null,
      "id": "c7421963",
      "metadata": {
        "papermill": {
          "duration": 0.014405,
          "end_time": "2022-11-13T13:44:10.165922",
          "exception": false,
          "start_time": "2022-11-13T13:44:10.151517",
          "status": "completed"
        },
        "tags": [],
        "id": "c7421963"
      },
      "outputs": [],
      "source": []
    }
  ],
  "metadata": {
    "kernelspec": {
      "display_name": "Python 3",
      "language": "python",
      "name": "python3"
    },
    "language_info": {
      "codemirror_mode": {
        "name": "ipython",
        "version": 3
      },
      "file_extension": ".py",
      "mimetype": "text/x-python",
      "name": "python",
      "nbconvert_exporter": "python",
      "pygments_lexer": "ipython3",
      "version": "3.7.12"
    },
    "papermill": {
      "default_parameters": {},
      "duration": 28.550199,
      "end_time": "2022-11-13T13:44:12.804114",
      "environment_variables": {},
      "exception": null,
      "input_path": "__notebook__.ipynb",
      "output_path": "__notebook__.ipynb",
      "parameters": {},
      "start_time": "2022-11-13T13:43:44.253915",
      "version": "2.3.4"
    },
    "colab": {
      "provenance": [],
      "include_colab_link": true
    }
  },
  "nbformat": 4,
  "nbformat_minor": 5
}